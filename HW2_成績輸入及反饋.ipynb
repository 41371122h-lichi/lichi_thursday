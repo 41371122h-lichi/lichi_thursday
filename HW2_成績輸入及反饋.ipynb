{
  "nbformat": 4,
  "nbformat_minor": 0,
  "metadata": {
    "colab": {
      "provenance": [],
      "authorship_tag": "ABX9TyMPFm+8gM2pRvxbBbUTx42v",
      "include_colab_link": true
    },
    "kernelspec": {
      "name": "python3",
      "display_name": "Python 3"
    },
    "language_info": {
      "name": "python"
    }
  },
  "cells": [
    {
      "cell_type": "markdown",
      "metadata": {
        "id": "view-in-github",
        "colab_type": "text"
      },
      "source": [
        "<a href=\"https://colab.research.google.com/github/41371122h-lichi/lichi_thursday/blob/main/HW2_%E6%88%90%E7%B8%BE%E8%BC%B8%E5%85%A5%E5%8F%8A%E5%8F%8D%E9%A5%8B.ipynb\" target=\"_parent\"><img src=\"https://colab.research.google.com/assets/colab-badge.svg\" alt=\"Open In Colab\"/></a>"
      ]
    },
    {
      "cell_type": "code",
      "source": [
        "pip install google-generativeai"
      ],
      "metadata": {
        "colab": {
          "base_uri": "https://localhost:8080/"
        },
        "id": "IBpmiHm0hWdr",
        "outputId": "23adb3d9-508b-481c-faf7-7ae5cdf6a3b9"
      },
      "execution_count": 21,
      "outputs": [
        {
          "output_type": "stream",
          "name": "stdout",
          "text": [
            "Requirement already satisfied: google-generativeai in /usr/local/lib/python3.12/dist-packages (0.8.5)\n",
            "Requirement already satisfied: google-ai-generativelanguage==0.6.15 in /usr/local/lib/python3.12/dist-packages (from google-generativeai) (0.6.15)\n",
            "Requirement already satisfied: google-api-core in /usr/local/lib/python3.12/dist-packages (from google-generativeai) (2.25.1)\n",
            "Requirement already satisfied: google-api-python-client in /usr/local/lib/python3.12/dist-packages (from google-generativeai) (2.182.0)\n",
            "Requirement already satisfied: google-auth>=2.15.0 in /usr/local/lib/python3.12/dist-packages (from google-generativeai) (2.38.0)\n",
            "Requirement already satisfied: protobuf in /usr/local/lib/python3.12/dist-packages (from google-generativeai) (5.29.5)\n",
            "Requirement already satisfied: pydantic in /usr/local/lib/python3.12/dist-packages (from google-generativeai) (2.11.9)\n",
            "Requirement already satisfied: tqdm in /usr/local/lib/python3.12/dist-packages (from google-generativeai) (4.67.1)\n",
            "Requirement already satisfied: typing-extensions in /usr/local/lib/python3.12/dist-packages (from google-generativeai) (4.15.0)\n",
            "Requirement already satisfied: proto-plus<2.0.0dev,>=1.22.3 in /usr/local/lib/python3.12/dist-packages (from google-ai-generativelanguage==0.6.15->google-generativeai) (1.26.1)\n",
            "Requirement already satisfied: googleapis-common-protos<2.0.0,>=1.56.2 in /usr/local/lib/python3.12/dist-packages (from google-api-core->google-generativeai) (1.70.0)\n",
            "Requirement already satisfied: requests<3.0.0,>=2.18.0 in /usr/local/lib/python3.12/dist-packages (from google-api-core->google-generativeai) (2.32.4)\n",
            "Requirement already satisfied: cachetools<6.0,>=2.0.0 in /usr/local/lib/python3.12/dist-packages (from google-auth>=2.15.0->google-generativeai) (5.5.2)\n",
            "Requirement already satisfied: pyasn1-modules>=0.2.1 in /usr/local/lib/python3.12/dist-packages (from google-auth>=2.15.0->google-generativeai) (0.4.2)\n",
            "Requirement already satisfied: rsa<5,>=3.1.4 in /usr/local/lib/python3.12/dist-packages (from google-auth>=2.15.0->google-generativeai) (4.9.1)\n",
            "Requirement already satisfied: httplib2<1.0.0,>=0.19.0 in /usr/local/lib/python3.12/dist-packages (from google-api-python-client->google-generativeai) (0.31.0)\n",
            "Requirement already satisfied: google-auth-httplib2<1.0.0,>=0.2.0 in /usr/local/lib/python3.12/dist-packages (from google-api-python-client->google-generativeai) (0.2.0)\n",
            "Requirement already satisfied: uritemplate<5,>=3.0.1 in /usr/local/lib/python3.12/dist-packages (from google-api-python-client->google-generativeai) (4.2.0)\n",
            "Requirement already satisfied: annotated-types>=0.6.0 in /usr/local/lib/python3.12/dist-packages (from pydantic->google-generativeai) (0.7.0)\n",
            "Requirement already satisfied: pydantic-core==2.33.2 in /usr/local/lib/python3.12/dist-packages (from pydantic->google-generativeai) (2.33.2)\n",
            "Requirement already satisfied: typing-inspection>=0.4.0 in /usr/local/lib/python3.12/dist-packages (from pydantic->google-generativeai) (0.4.1)\n",
            "Requirement already satisfied: grpcio<2.0.0,>=1.33.2 in /usr/local/lib/python3.12/dist-packages (from google-api-core[grpc]!=2.0.*,!=2.1.*,!=2.10.*,!=2.2.*,!=2.3.*,!=2.4.*,!=2.5.*,!=2.6.*,!=2.7.*,!=2.8.*,!=2.9.*,<3.0.0dev,>=1.34.1->google-ai-generativelanguage==0.6.15->google-generativeai) (1.75.0)\n",
            "Requirement already satisfied: grpcio-status<2.0.0,>=1.33.2 in /usr/local/lib/python3.12/dist-packages (from google-api-core[grpc]!=2.0.*,!=2.1.*,!=2.10.*,!=2.2.*,!=2.3.*,!=2.4.*,!=2.5.*,!=2.6.*,!=2.7.*,!=2.8.*,!=2.9.*,<3.0.0dev,>=1.34.1->google-ai-generativelanguage==0.6.15->google-generativeai) (1.71.2)\n",
            "Requirement already satisfied: pyparsing<4,>=3.0.4 in /usr/local/lib/python3.12/dist-packages (from httplib2<1.0.0,>=0.19.0->google-api-python-client->google-generativeai) (3.2.4)\n",
            "Requirement already satisfied: pyasn1<0.7.0,>=0.6.1 in /usr/local/lib/python3.12/dist-packages (from pyasn1-modules>=0.2.1->google-auth>=2.15.0->google-generativeai) (0.6.1)\n",
            "Requirement already satisfied: charset_normalizer<4,>=2 in /usr/local/lib/python3.12/dist-packages (from requests<3.0.0,>=2.18.0->google-api-core->google-generativeai) (3.4.3)\n",
            "Requirement already satisfied: idna<4,>=2.5 in /usr/local/lib/python3.12/dist-packages (from requests<3.0.0,>=2.18.0->google-api-core->google-generativeai) (3.10)\n",
            "Requirement already satisfied: urllib3<3,>=1.21.1 in /usr/local/lib/python3.12/dist-packages (from requests<3.0.0,>=2.18.0->google-api-core->google-generativeai) (2.5.0)\n",
            "Requirement already satisfied: certifi>=2017.4.17 in /usr/local/lib/python3.12/dist-packages (from requests<3.0.0,>=2.18.0->google-api-core->google-generativeai) (2025.8.3)\n"
          ]
        }
      ]
    },
    {
      "cell_type": "code",
      "source": [
        "!pip install gradio"
      ],
      "metadata": {
        "colab": {
          "base_uri": "https://localhost:8080/"
        },
        "id": "dx7YyG6y5k7M",
        "outputId": "ee46a015-47e1-49b5-b9f7-232a0cc6d8c9"
      },
      "execution_count": 22,
      "outputs": [
        {
          "output_type": "stream",
          "name": "stdout",
          "text": [
            "Requirement already satisfied: gradio in /usr/local/lib/python3.12/dist-packages (5.46.0)\n",
            "Requirement already satisfied: aiofiles<25.0,>=22.0 in /usr/local/lib/python3.12/dist-packages (from gradio) (24.1.0)\n",
            "Requirement already satisfied: anyio<5.0,>=3.0 in /usr/local/lib/python3.12/dist-packages (from gradio) (4.10.0)\n",
            "Requirement already satisfied: brotli>=1.1.0 in /usr/local/lib/python3.12/dist-packages (from gradio) (1.1.0)\n",
            "Requirement already satisfied: fastapi<1.0,>=0.115.2 in /usr/local/lib/python3.12/dist-packages (from gradio) (0.116.2)\n",
            "Requirement already satisfied: ffmpy in /usr/local/lib/python3.12/dist-packages (from gradio) (0.6.1)\n",
            "Requirement already satisfied: gradio-client==1.13.0 in /usr/local/lib/python3.12/dist-packages (from gradio) (1.13.0)\n",
            "Requirement already satisfied: groovy~=0.1 in /usr/local/lib/python3.12/dist-packages (from gradio) (0.1.2)\n",
            "Requirement already satisfied: httpx<1.0,>=0.24.1 in /usr/local/lib/python3.12/dist-packages (from gradio) (0.28.1)\n",
            "Requirement already satisfied: huggingface-hub<1.0,>=0.33.5 in /usr/local/lib/python3.12/dist-packages (from gradio) (0.35.0)\n",
            "Requirement already satisfied: jinja2<4.0 in /usr/local/lib/python3.12/dist-packages (from gradio) (3.1.6)\n",
            "Requirement already satisfied: markupsafe<4.0,>=2.0 in /usr/local/lib/python3.12/dist-packages (from gradio) (3.0.2)\n",
            "Requirement already satisfied: numpy<3.0,>=1.0 in /usr/local/lib/python3.12/dist-packages (from gradio) (2.0.2)\n",
            "Requirement already satisfied: orjson~=3.0 in /usr/local/lib/python3.12/dist-packages (from gradio) (3.11.3)\n",
            "Requirement already satisfied: packaging in /usr/local/lib/python3.12/dist-packages (from gradio) (25.0)\n",
            "Requirement already satisfied: pandas<3.0,>=1.0 in /usr/local/lib/python3.12/dist-packages (from gradio) (2.2.2)\n",
            "Requirement already satisfied: pillow<12.0,>=8.0 in /usr/local/lib/python3.12/dist-packages (from gradio) (11.3.0)\n",
            "Requirement already satisfied: pydantic<2.12,>=2.0 in /usr/local/lib/python3.12/dist-packages (from gradio) (2.11.9)\n",
            "Requirement already satisfied: pydub in /usr/local/lib/python3.12/dist-packages (from gradio) (0.25.1)\n",
            "Requirement already satisfied: python-multipart>=0.0.18 in /usr/local/lib/python3.12/dist-packages (from gradio) (0.0.20)\n",
            "Requirement already satisfied: pyyaml<7.0,>=5.0 in /usr/local/lib/python3.12/dist-packages (from gradio) (6.0.2)\n",
            "Requirement already satisfied: ruff>=0.9.3 in /usr/local/lib/python3.12/dist-packages (from gradio) (0.13.0)\n",
            "Requirement already satisfied: safehttpx<0.2.0,>=0.1.6 in /usr/local/lib/python3.12/dist-packages (from gradio) (0.1.6)\n",
            "Requirement already satisfied: semantic-version~=2.0 in /usr/local/lib/python3.12/dist-packages (from gradio) (2.10.0)\n",
            "Requirement already satisfied: starlette<1.0,>=0.40.0 in /usr/local/lib/python3.12/dist-packages (from gradio) (0.48.0)\n",
            "Requirement already satisfied: tomlkit<0.14.0,>=0.12.0 in /usr/local/lib/python3.12/dist-packages (from gradio) (0.13.3)\n",
            "Requirement already satisfied: typer<1.0,>=0.12 in /usr/local/lib/python3.12/dist-packages (from gradio) (0.17.4)\n",
            "Requirement already satisfied: typing-extensions~=4.0 in /usr/local/lib/python3.12/dist-packages (from gradio) (4.15.0)\n",
            "Requirement already satisfied: uvicorn>=0.14.0 in /usr/local/lib/python3.12/dist-packages (from gradio) (0.35.0)\n",
            "Requirement already satisfied: fsspec in /usr/local/lib/python3.12/dist-packages (from gradio-client==1.13.0->gradio) (2025.3.0)\n",
            "Requirement already satisfied: websockets<16.0,>=10.0 in /usr/local/lib/python3.12/dist-packages (from gradio-client==1.13.0->gradio) (15.0.1)\n",
            "Requirement already satisfied: idna>=2.8 in /usr/local/lib/python3.12/dist-packages (from anyio<5.0,>=3.0->gradio) (3.10)\n",
            "Requirement already satisfied: sniffio>=1.1 in /usr/local/lib/python3.12/dist-packages (from anyio<5.0,>=3.0->gradio) (1.3.1)\n",
            "Requirement already satisfied: certifi in /usr/local/lib/python3.12/dist-packages (from httpx<1.0,>=0.24.1->gradio) (2025.8.3)\n",
            "Requirement already satisfied: httpcore==1.* in /usr/local/lib/python3.12/dist-packages (from httpx<1.0,>=0.24.1->gradio) (1.0.9)\n",
            "Requirement already satisfied: h11>=0.16 in /usr/local/lib/python3.12/dist-packages (from httpcore==1.*->httpx<1.0,>=0.24.1->gradio) (0.16.0)\n",
            "Requirement already satisfied: filelock in /usr/local/lib/python3.12/dist-packages (from huggingface-hub<1.0,>=0.33.5->gradio) (3.19.1)\n",
            "Requirement already satisfied: requests in /usr/local/lib/python3.12/dist-packages (from huggingface-hub<1.0,>=0.33.5->gradio) (2.32.4)\n",
            "Requirement already satisfied: tqdm>=4.42.1 in /usr/local/lib/python3.12/dist-packages (from huggingface-hub<1.0,>=0.33.5->gradio) (4.67.1)\n",
            "Requirement already satisfied: hf-xet<2.0.0,>=1.1.3 in /usr/local/lib/python3.12/dist-packages (from huggingface-hub<1.0,>=0.33.5->gradio) (1.1.10)\n",
            "Requirement already satisfied: python-dateutil>=2.8.2 in /usr/local/lib/python3.12/dist-packages (from pandas<3.0,>=1.0->gradio) (2.9.0.post0)\n",
            "Requirement already satisfied: pytz>=2020.1 in /usr/local/lib/python3.12/dist-packages (from pandas<3.0,>=1.0->gradio) (2025.2)\n",
            "Requirement already satisfied: tzdata>=2022.7 in /usr/local/lib/python3.12/dist-packages (from pandas<3.0,>=1.0->gradio) (2025.2)\n",
            "Requirement already satisfied: annotated-types>=0.6.0 in /usr/local/lib/python3.12/dist-packages (from pydantic<2.12,>=2.0->gradio) (0.7.0)\n",
            "Requirement already satisfied: pydantic-core==2.33.2 in /usr/local/lib/python3.12/dist-packages (from pydantic<2.12,>=2.0->gradio) (2.33.2)\n",
            "Requirement already satisfied: typing-inspection>=0.4.0 in /usr/local/lib/python3.12/dist-packages (from pydantic<2.12,>=2.0->gradio) (0.4.1)\n",
            "Requirement already satisfied: click>=8.0.0 in /usr/local/lib/python3.12/dist-packages (from typer<1.0,>=0.12->gradio) (8.2.1)\n",
            "Requirement already satisfied: shellingham>=1.3.0 in /usr/local/lib/python3.12/dist-packages (from typer<1.0,>=0.12->gradio) (1.5.4)\n",
            "Requirement already satisfied: rich>=10.11.0 in /usr/local/lib/python3.12/dist-packages (from typer<1.0,>=0.12->gradio) (13.9.4)\n",
            "Requirement already satisfied: six>=1.5 in /usr/local/lib/python3.12/dist-packages (from python-dateutil>=2.8.2->pandas<3.0,>=1.0->gradio) (1.17.0)\n",
            "Requirement already satisfied: markdown-it-py>=2.2.0 in /usr/local/lib/python3.12/dist-packages (from rich>=10.11.0->typer<1.0,>=0.12->gradio) (4.0.0)\n",
            "Requirement already satisfied: pygments<3.0.0,>=2.13.0 in /usr/local/lib/python3.12/dist-packages (from rich>=10.11.0->typer<1.0,>=0.12->gradio) (2.19.2)\n",
            "Requirement already satisfied: charset_normalizer<4,>=2 in /usr/local/lib/python3.12/dist-packages (from requests->huggingface-hub<1.0,>=0.33.5->gradio) (3.4.3)\n",
            "Requirement already satisfied: urllib3<3,>=1.21.1 in /usr/local/lib/python3.12/dist-packages (from requests->huggingface-hub<1.0,>=0.33.5->gradio) (2.5.0)\n",
            "Requirement already satisfied: mdurl~=0.1 in /usr/local/lib/python3.12/dist-packages (from markdown-it-py>=2.2.0->rich>=10.11.0->typer<1.0,>=0.12->gradio) (0.1.2)\n"
          ]
        }
      ]
    },
    {
      "cell_type": "code",
      "source": [
        "import pandas as pd\n",
        "import gradio as gr\n",
        "import google.generativeai as genai\n",
        "from google.colab import userdata\n",
        "import gspread\n",
        "from google.oauth2.service_account import Credentials"
      ],
      "metadata": {
        "id": "YBUFZJ5anI3l"
      },
      "execution_count": 23,
      "outputs": []
    },
    {
      "cell_type": "code",
      "execution_count": 24,
      "metadata": {
        "colab": {
          "base_uri": "https://localhost:8080/",
          "height": 69
        },
        "id": "_5wkqhG0gRZD",
        "outputId": "e63c929b-3625-49e9-df31-3a30623113fb"
      },
      "outputs": [
        {
          "output_type": "stream",
          "name": "stdout",
          "text": [
            "**By learning from data.**\n",
            "\n",
            "Just like you learn from experience, AI learns by processing huge amounts of information, finding patterns, and using them to make decisions or predictions.\n"
          ]
        }
      ],
      "source": [
        "api_key = userdata.get('gemini')\n",
        "\n",
        "# 設定 API 金鑰\n",
        "genai.configure(api_key=api_key)\n",
        "\n",
        "# 選擇模型\n",
        "model = genai.GenerativeModel('gemini-2.5-pro')\n",
        "\n",
        "# 你的提問內容\n",
        "prompt = \"Explain how AI works in a few words\"\n",
        "\n",
        "# 發送請求並取得回應\n",
        "response = model.generate_content(prompt)\n",
        "\n",
        "# 印出回應的文字內容\n",
        "print(response.text)"
      ]
    },
    {
      "cell_type": "code",
      "source": [
        "SHEET_URL = \"https://docs.google.com/spreadsheets/d/1IcPEaEvIh0kGCGt5pklxNuQY89m3LLNt0qfyVNIj5LQ/edit?usp=sharing\"\n",
        "WORKSHEET_NAME = \"工作表1\"  # 你的工作表名稱\n",
        "SERVICE_ACCOUNT_FILE = 'service_account.json'\n",
        "REQUIRED_COLUMNS = [\"學年度\", \"學期\", \"科目\", \"學期成績\", \"AI建議\"]\n",
        "\n",
        "# 從 Colab Secrets 中讀取 Gemini API 金鑰\n",
        "# 確保你已經在 Colab Secrets 中設定了 'GEMINI_API_KEY'\n",
        "try:\n",
        "    genai.configure(api_key=userdata.get('gemini'))\n",
        "    model = genai.GenerativeModel('gemini-2.5-pro')\n",
        "except Exception as e:\n",
        "    print(f\"無法設定 Gemini API: {e}\")\n",
        "    model = None"
      ],
      "metadata": {
        "id": "IA3YsdZcjGki"
      },
      "execution_count": 25,
      "outputs": []
    },
    {
      "cell_type": "code",
      "source": [
        "try:\n",
        "    genai.configure(api_key=userdata.get('gemini'))\n",
        "    model = genai.GenerativeModel('gemini-2.5-pro')\n",
        "    print(\"Gemini API 已成功設定。\")\n",
        "except Exception as e:\n",
        "    print(f\"無法設定 Gemini API，請檢查 Colab Secrets: {e}\")\n",
        "    model = None\n",
        "\n",
        "# Google Sheets 服務帳號認證\n",
        "# 請確認 service_account.json 檔案已上傳至 Colab\n",
        "try:\n",
        "    SERVICE_ACCOUNT_FILE = 'service_account.json'\n",
        "    scope = [\"https://spreadsheets.google.com/feeds\", \"https://www.googleapis.com/auth/drive\"]\n",
        "    creds = Credentials.from_service_account_file(SERVICE_ACCOUNT_FILE, scopes=scope)\n",
        "    client = gspread.authorize(creds)\n",
        "    print(\"Google Sheets 認證成功。\")\n",
        "    sheets_enabled = True\n",
        "except Exception as e:\n",
        "    print(f\"Google Sheets 認證失敗，請檢查 service_account.json 檔案: {e}\")\n",
        "    sheets_enabled = False\n",
        "\n",
        "# --- 2. 功能函式 ---\n",
        "def get_ai_advice(course_name, grade, text_input):\n",
        "    \"\"\"根據單科成績和心得，產生 AI 建議\"\"\"\n",
        "    if not model:\n",
        "        return \"AI 功能未啟用，請檢查 API 設定。\"\n",
        "\n",
        "    prompt = f\"\"\"\n",
        "    你是一名專業的學術顧問。請根據以下學生的學期成績、個人心得，給予一份簡短且具體的學習建議，並指出亮點或潛在問題。\n",
        "\n",
        "    科目：{course_name}\n",
        "    學期成績：{grade}\n",
        "    個人心得：{text_input}\n",
        "\n",
        "    請以繁體中文回答，並使用條列式呈現，格式如下：\n",
        "    1. 建議：[簡潔的建議]\n",
        "    2. 總結：[總結亮點或潛在問題]\n",
        "    \"\"\"\n",
        "    try:\n",
        "        response = model.generate_content(prompt)\n",
        "        return response.text\n",
        "    except Exception as e:\n",
        "        return f\"AI 建議產生失敗: {e}\"\n",
        "\n",
        "def get_overall_ai_advice(df, year, semester):\n",
        "    \"\"\"根據學期所有成績和心得，產生總體 AI 建議\"\"\"\n",
        "    if not model:\n",
        "        return \"AI 功能未啟用，請檢查 API 設定。\"\n",
        "\n",
        "    # 篩選該學期所有資料\n",
        "    df_semester = df[(df['學年度'] == year) & (df['學期'] == semester)].copy()\n",
        "    if df_semester.empty:\n",
        "        return f\"學年度 {year} 的 {semester} 沒有找到任何成績記錄，無法給予總體建議。\"\n",
        "\n",
        "    all_grades = df_semester['學期成績'].str.cat(sep=\", \")\n",
        "    all_心得 = df_semester['個人心得'].str.cat(sep=\"\\n---\\n\")\n",
        "\n",
        "    prompt = f\"\"\"\n",
        "    你是一名專業的學術顧問，請根據以下學期成績、所有科目的個人心得，給予一份總體性的學習建議和未來規劃。\n",
        "\n",
        "    學年度：{year}\n",
        "    學期：{semester}\n",
        "    學期平均 GPA:{overall_gpa}\n",
        "\n",
        "    所有科目的心得總結：\n",
        "    {all_心得}\n",
        "\n",
        "    請以繁體中文回答，並使用條列式呈現，格式如下：\n",
        "    1. 整體表現總結：[簡潔的分析]\n",
        "    2. 總體學習建議：[具體的學習建議]\n",
        "    3. 未來規劃方向：[基於表現給予的未來方向]\n",
        "    \"\"\"\n",
        "    try:\n",
        "        response = model.generate_content(prompt)\n",
        "        return response.text\n",
        "    except Exception as e:\n",
        "        return f\"AI 總體建議產生失敗: {e}\"\n",
        "\n",
        "def add_record_to_sheet(year, semester, subject, grade, text_input, is_final):\n",
        "    \"\"\"將單筆記錄寫入 Google Sheets，並根據選項處理 AI 建議和工作表切換\"\"\"\n",
        "    if not sheets_enabled:\n",
        "        return \"❌ 錯誤：未連接 Google Sheets，請先上傳 service_account.json 檔案。\"\n",
        "\n",
        "    try:\n",
        "        worksheet_name = f\"{year}學年度{semester}\"\n",
        "        spreadsheet = client.open_by_url(\"https://docs.google.com/spreadsheets/d/1IcPEaEvIh0kGCGt5pklxNuQY89m3LLNt0qfyVNIj5LQ/edit?usp=sharing\")\n",
        "\n",
        "        try:\n",
        "            worksheet = spreadsheet.worksheet(worksheet_name)\n",
        "        except gspread.exceptions.WorksheetNotFound:\n",
        "            print(f\"工作表 '{worksheet_name}' 不存在，正在創建...\")\n",
        "            worksheet = spreadsheet.add_worksheet(title=worksheet_name, rows=\"100\", cols=\"20\")\n",
        "            header = [\"學年度\", \"學期\", \"科目\", \"學期成績\", \"個人心得\", \"AI建議\"]\n",
        "            worksheet.append_row(header)\n",
        "\n",
        "        # **這裡直接使用 grade 字串，不再需要 gpa_to_number 轉換。**\n",
        "\n",
        "        if is_final == \"否\":\n",
        "            row_data = [year, semester, subject, grade, text_input, \"\"]\n",
        "            worksheet.append_row(row_data)\n",
        "            return f\"\"\"\n",
        "            ✅ **登錄成功！**\n",
        "\n",
        "            已新增一筆成績記錄。\n",
        "            學年度: {year}\n",
        "            學期: {semester}\n",
        "            科目: {subject}\n",
        "            學期成績: {grade}\n",
        "\n",
        "            ---\n",
        "            **分析中...**\n",
        "            AI 總體建議將在您完成所有成績登錄，並選擇「是」後才會提供。\n",
        "            \"\"\"\n",
        "\n",
        "        else:\n",
        "            ai_advice = get_ai_advice(subject, grade, text_input)\n",
        "            row_data = [year, semester, subject, grade, text_input, ai_advice]\n",
        "            worksheet.append_row(row_data)\n",
        "\n",
        "            data = worksheet.get_all_records()\n",
        "            df = pd.DataFrame(data)\n",
        "            overall_advice = get_overall_ai_advice(df, year, semester)\n",
        "\n",
        "            return f\"\"\"\n",
        "            ✅ **單科紀錄新增成功！**\n",
        "\n",
        "            學年度: {year}\n",
        "            學期: {semester}\n",
        "            科目: {subject}\n",
        "            學期成績: {grade}\n",
        "\n",
        "            ---\n",
        "            **單科AI建議:**\n",
        "            {ai_advice}\n",
        "\n",
        "            ---\n",
        "            **學期總體AI建議:**\n",
        "            {overall_advice}\n",
        "            \"\"\"\n",
        "    except gspread.exceptions.SpreadsheetNotFound:\n",
        "        return \"❌ 錯誤：找不到指定的 Google Sheets，請檢查 URL。\"\n",
        "    except Exception as e:\n",
        "        print(f\"詳細錯誤訊息: {e}\")\n",
        "        return f\"❌ 發生錯誤: {e}\"\n",
        "\n",
        "def handle_submit(year, semester, subject, grade, text_input, is_final):\n",
        "    if not sheets_enabled:\n",
        "        return \"❌ 錯誤：未連接 Google Sheets，請先上傳 service_account.json 檔案。\", \"\", \"A+\", \"\", \"否\"\n",
        "\n",
        "    if is_final == \"是\":\n",
        "        result = add_record_to_sheet(year, semester, subject, grade, text_input, is_final)\n",
        "        return result, \"\", \"A+\", \"\", \"否\"\n",
        "    else:\n",
        "        result = add_record_to_sheet(year, semester, subject, grade, text_input, is_final)\n",
        "        return result, \"\", \"A+\", \"\", \"否\"\n",
        "\n",
        "\n",
        "# --- 3. Gradio 介面 ---\n",
        "# 成績選項\n",
        "grade_choices = [\"A+\", \"A\", \"A-\", \"B+\", \"B\", \"B-\", \"C+\", \"C\", \"C-\", \"D\", \"E\"]\n",
        "\n",
        "# 學期選項\n",
        "semester_choices = [\"第一學期\", \"第二學期\", \"暑修\"]\n",
        "\n",
        "# 介面組件\n",
        "with gr.Blocks() as demo:\n",
        "    gr.Markdown(\"# 課程成績與 AI 建議紀錄工具\")\n",
        "    gr.Markdown(\"請輸入你的成績資訊，AI 將會提供個人化建議並將記錄儲存到 Google Sheets。\")\n",
        "\n",
        "    with gr.Row():\n",
        "      year_input = gr.Textbox(label=\"學年度\", placeholder=\"例如: 114(無須加單位)\")\n",
        "      semester_dropdown = gr.Dropdown(\n",
        "        choices=semester_choices,\n",
        "        label=\"學期\",\n",
        "        value=\"第一學期\"\n",
        "       )\n",
        "\n",
        "    with gr.Row():\n",
        "        subject_input = gr.Textbox(label=\"科目名稱\", placeholder=\"例如: 程式語言\")\n",
        "        grade_dropdown = gr.Dropdown(\n",
        "            choices=grade_choices,\n",
        "            label=\"學期成績 (GPA)\",\n",
        "            value=\"A+\"\n",
        "        )\n",
        "\n",
        "    text_input = gr.Textbox(\n",
        "        lines=5,\n",
        "        label=\"個人心得\",\n",
        "        placeholder=\"請輸入你的學習心得、遇到的困難或獲得的成就，寫得越詳細，AI給的建議就越精準唷！\"\n",
        "    )\n",
        "\n",
        "    is_final_radio = gr.Radio(choices=[\"否\",\"是\"], value=\"否\", label=\"是否已完成該學期所有成績登錄？\")\n",
        "\n",
        "    submit_button = gr.Button(\"新增紀錄並取得AI建議\")\n",
        "\n",
        "    # 使用 gr.State 來暫存學年度和學期\n",
        "    year_state = gr.State()\n",
        "    semester_state = gr.State()\n",
        "\n",
        "    output_text = gr.Textbox(label=\"處理結果\", interactive=False)\n",
        "\n",
        "    submit_button.click(\n",
        "        fn=handle_submit,\n",
        "        inputs=[year_input, semester_dropdown, subject_input, grade_dropdown, text_input, is_final_radio],\n",
        "        outputs=[output_text, subject_input, grade_dropdown, text_input, is_final_radio]\n",
        "    )\n",
        "\n",
        "# 啟動 Gradio 介面\n",
        "demo.launch(share=True)"
      ],
      "metadata": {
        "colab": {
          "base_uri": "https://localhost:8080/",
          "height": 646
        },
        "id": "hXGO1czYkJB0",
        "outputId": "546fbf69-5f3b-480e-97d8-4f3cb03e1e8b"
      },
      "execution_count": 26,
      "outputs": [
        {
          "output_type": "stream",
          "name": "stdout",
          "text": [
            "Gemini API 已成功設定。\n",
            "Google Sheets 認證成功。\n",
            "Colab notebook detected. To show errors in colab notebook, set debug=True in launch()\n",
            "* Running on public URL: https://f3b0b4da9a53c00f39.gradio.live\n",
            "\n",
            "This share link expires in 1 week. For free permanent hosting and GPU upgrades, run `gradio deploy` from the terminal in the working directory to deploy to Hugging Face Spaces (https://huggingface.co/spaces)\n"
          ]
        },
        {
          "output_type": "display_data",
          "data": {
            "text/plain": [
              "<IPython.core.display.HTML object>"
            ],
            "text/html": [
              "<div><iframe src=\"https://f3b0b4da9a53c00f39.gradio.live\" width=\"100%\" height=\"500\" allow=\"autoplay; camera; microphone; clipboard-read; clipboard-write;\" frameborder=\"0\" allowfullscreen></iframe></div>"
            ]
          },
          "metadata": {}
        },
        {
          "output_type": "execute_result",
          "data": {
            "text/plain": []
          },
          "metadata": {},
          "execution_count": 26
        }
      ]
    }
  ]
}